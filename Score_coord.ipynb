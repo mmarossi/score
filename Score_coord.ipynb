{
  "nbformat": 4,
  "nbformat_minor": 0,
  "metadata": {
    "colab": {
      "name": "Score_coord.ipynb",
      "provenance": [],
      "collapsed_sections": [],
      "authorship_tag": "ABX9TyMVTCod735lc+t4e3oQbCqS",
      "include_colab_link": true
    },
    "kernelspec": {
      "name": "python3",
      "display_name": "Python 3"
    },
    "language_info": {
      "name": "python"
    }
  },
  "cells": [
    {
      "cell_type": "markdown",
      "metadata": {
        "id": "view-in-github",
        "colab_type": "text"
      },
      "source": [
        "<a href=\"https://colab.research.google.com/github/mmarossi/score/blob/main/Score_coord.ipynb\" target=\"_parent\"><img src=\"https://colab.research.google.com/assets/colab-badge.svg\" alt=\"Open In Colab\"/></a>"
      ]
    },
    {
      "cell_type": "code",
      "metadata": {
        "id": "ek4-Lw58QLA3"
      },
      "source": [
        "import pandas as pd\n",
        "import numpy as np\n",
        "import matplotlib.pyplot as plt"
      ],
      "execution_count": 23,
      "outputs": []
    },
    {
      "cell_type": "code",
      "metadata": {
        "colab": {
          "resources": {
            "http://localhost:8080/nbextensions/google.colab/files.js": {
              "data": "Ly8gQ29weXJpZ2h0IDIwMTcgR29vZ2xlIExMQwovLwovLyBMaWNlbnNlZCB1bmRlciB0aGUgQXBhY2hlIExpY2Vuc2UsIFZlcnNpb24gMi4wICh0aGUgIkxpY2Vuc2UiKTsKLy8geW91IG1heSBub3QgdXNlIHRoaXMgZmlsZSBleGNlcHQgaW4gY29tcGxpYW5jZSB3aXRoIHRoZSBMaWNlbnNlLgovLyBZb3UgbWF5IG9idGFpbiBhIGNvcHkgb2YgdGhlIExpY2Vuc2UgYXQKLy8KLy8gICAgICBodHRwOi8vd3d3LmFwYWNoZS5vcmcvbGljZW5zZXMvTElDRU5TRS0yLjAKLy8KLy8gVW5sZXNzIHJlcXVpcmVkIGJ5IGFwcGxpY2FibGUgbGF3IG9yIGFncmVlZCB0byBpbiB3cml0aW5nLCBzb2Z0d2FyZQovLyBkaXN0cmlidXRlZCB1bmRlciB0aGUgTGljZW5zZSBpcyBkaXN0cmlidXRlZCBvbiBhbiAiQVMgSVMiIEJBU0lTLAovLyBXSVRIT1VUIFdBUlJBTlRJRVMgT1IgQ09ORElUSU9OUyBPRiBBTlkgS0lORCwgZWl0aGVyIGV4cHJlc3Mgb3IgaW1wbGllZC4KLy8gU2VlIHRoZSBMaWNlbnNlIGZvciB0aGUgc3BlY2lmaWMgbGFuZ3VhZ2UgZ292ZXJuaW5nIHBlcm1pc3Npb25zIGFuZAovLyBsaW1pdGF0aW9ucyB1bmRlciB0aGUgTGljZW5zZS4KCi8qKgogKiBAZmlsZW92ZXJ2aWV3IEhlbHBlcnMgZm9yIGdvb2dsZS5jb2xhYiBQeXRob24gbW9kdWxlLgogKi8KKGZ1bmN0aW9uKHNjb3BlKSB7CmZ1bmN0aW9uIHNwYW4odGV4dCwgc3R5bGVBdHRyaWJ1dGVzID0ge30pIHsKICBjb25zdCBlbGVtZW50ID0gZG9jdW1lbnQuY3JlYXRlRWxlbWVudCgnc3BhbicpOwogIGVsZW1lbnQudGV4dENvbnRlbnQgPSB0ZXh0OwogIGZvciAoY29uc3Qga2V5IG9mIE9iamVjdC5rZXlzKHN0eWxlQXR0cmlidXRlcykpIHsKICAgIGVsZW1lbnQuc3R5bGVba2V5XSA9IHN0eWxlQXR0cmlidXRlc1trZXldOwogIH0KICByZXR1cm4gZWxlbWVudDsKfQoKLy8gTWF4IG51bWJlciBvZiBieXRlcyB3aGljaCB3aWxsIGJlIHVwbG9hZGVkIGF0IGEgdGltZS4KY29uc3QgTUFYX1BBWUxPQURfU0laRSA9IDEwMCAqIDEwMjQ7CgpmdW5jdGlvbiBfdXBsb2FkRmlsZXMoaW5wdXRJZCwgb3V0cHV0SWQpIHsKICBjb25zdCBzdGVwcyA9IHVwbG9hZEZpbGVzU3RlcChpbnB1dElkLCBvdXRwdXRJZCk7CiAgY29uc3Qgb3V0cHV0RWxlbWVudCA9IGRvY3VtZW50LmdldEVsZW1lbnRCeUlkKG91dHB1dElkKTsKICAvLyBDYWNoZSBzdGVwcyBvbiB0aGUgb3V0cHV0RWxlbWVudCB0byBtYWtlIGl0IGF2YWlsYWJsZSBmb3IgdGhlIG5leHQgY2FsbAogIC8vIHRvIHVwbG9hZEZpbGVzQ29udGludWUgZnJvbSBQeXRob24uCiAgb3V0cHV0RWxlbWVudC5zdGVwcyA9IHN0ZXBzOwoKICByZXR1cm4gX3VwbG9hZEZpbGVzQ29udGludWUob3V0cHV0SWQpOwp9CgovLyBUaGlzIGlzIHJvdWdobHkgYW4gYXN5bmMgZ2VuZXJhdG9yIChub3Qgc3VwcG9ydGVkIGluIHRoZSBicm93c2VyIHlldCksCi8vIHdoZXJlIHRoZXJlIGFyZSBtdWx0aXBsZSBhc3luY2hyb25vdXMgc3RlcHMgYW5kIHRoZSBQeXRob24gc2lkZSBpcyBnb2luZwovLyB0byBwb2xsIGZvciBjb21wbGV0aW9uIG9mIGVhY2ggc3RlcC4KLy8gVGhpcyB1c2VzIGEgUHJvbWlzZSB0byBibG9jayB0aGUgcHl0aG9uIHNpZGUgb24gY29tcGxldGlvbiBvZiBlYWNoIHN0ZXAsCi8vIHRoZW4gcGFzc2VzIHRoZSByZXN1bHQgb2YgdGhlIHByZXZpb3VzIHN0ZXAgYXMgdGhlIGlucHV0IHRvIHRoZSBuZXh0IHN0ZXAuCmZ1bmN0aW9uIF91cGxvYWRGaWxlc0NvbnRpbnVlKG91dHB1dElkKSB7CiAgY29uc3Qgb3V0cHV0RWxlbWVudCA9IGRvY3VtZW50LmdldEVsZW1lbnRCeUlkKG91dHB1dElkKTsKICBjb25zdCBzdGVwcyA9IG91dHB1dEVsZW1lbnQuc3RlcHM7CgogIGNvbnN0IG5leHQgPSBzdGVwcy5uZXh0KG91dHB1dEVsZW1lbnQubGFzdFByb21pc2VWYWx1ZSk7CiAgcmV0dXJuIFByb21pc2UucmVzb2x2ZShuZXh0LnZhbHVlLnByb21pc2UpLnRoZW4oKHZhbHVlKSA9PiB7CiAgICAvLyBDYWNoZSB0aGUgbGFzdCBwcm9taXNlIHZhbHVlIHRvIG1ha2UgaXQgYXZhaWxhYmxlIHRvIHRoZSBuZXh0CiAgICAvLyBzdGVwIG9mIHRoZSBnZW5lcmF0b3IuCiAgICBvdXRwdXRFbGVtZW50Lmxhc3RQcm9taXNlVmFsdWUgPSB2YWx1ZTsKICAgIHJldHVybiBuZXh0LnZhbHVlLnJlc3BvbnNlOwogIH0pOwp9CgovKioKICogR2VuZXJhdG9yIGZ1bmN0aW9uIHdoaWNoIGlzIGNhbGxlZCBiZXR3ZWVuIGVhY2ggYXN5bmMgc3RlcCBvZiB0aGUgdXBsb2FkCiAqIHByb2Nlc3MuCiAqIEBwYXJhbSB7c3RyaW5nfSBpbnB1dElkIEVsZW1lbnQgSUQgb2YgdGhlIGlucHV0IGZpbGUgcGlja2VyIGVsZW1lbnQuCiAqIEBwYXJhbSB7c3RyaW5nfSBvdXRwdXRJZCBFbGVtZW50IElEIG9mIHRoZSBvdXRwdXQgZGlzcGxheS4KICogQHJldHVybiB7IUl0ZXJhYmxlPCFPYmplY3Q+fSBJdGVyYWJsZSBvZiBuZXh0IHN0ZXBzLgogKi8KZnVuY3Rpb24qIHVwbG9hZEZpbGVzU3RlcChpbnB1dElkLCBvdXRwdXRJZCkgewogIGNvbnN0IGlucHV0RWxlbWVudCA9IGRvY3VtZW50LmdldEVsZW1lbnRCeUlkKGlucHV0SWQpOwogIGlucHV0RWxlbWVudC5kaXNhYmxlZCA9IGZhbHNlOwoKICBjb25zdCBvdXRwdXRFbGVtZW50ID0gZG9jdW1lbnQuZ2V0RWxlbWVudEJ5SWQob3V0cHV0SWQpOwogIG91dHB1dEVsZW1lbnQuaW5uZXJIVE1MID0gJyc7CgogIGNvbnN0IHBpY2tlZFByb21pc2UgPSBuZXcgUHJvbWlzZSgocmVzb2x2ZSkgPT4gewogICAgaW5wdXRFbGVtZW50LmFkZEV2ZW50TGlzdGVuZXIoJ2NoYW5nZScsIChlKSA9PiB7CiAgICAgIHJlc29sdmUoZS50YXJnZXQuZmlsZXMpOwogICAgfSk7CiAgfSk7CgogIGNvbnN0IGNhbmNlbCA9IGRvY3VtZW50LmNyZWF0ZUVsZW1lbnQoJ2J1dHRvbicpOwogIGlucHV0RWxlbWVudC5wYXJlbnRFbGVtZW50LmFwcGVuZENoaWxkKGNhbmNlbCk7CiAgY2FuY2VsLnRleHRDb250ZW50ID0gJ0NhbmNlbCB1cGxvYWQnOwogIGNvbnN0IGNhbmNlbFByb21pc2UgPSBuZXcgUHJvbWlzZSgocmVzb2x2ZSkgPT4gewogICAgY2FuY2VsLm9uY2xpY2sgPSAoKSA9PiB7CiAgICAgIHJlc29sdmUobnVsbCk7CiAgICB9OwogIH0pOwoKICAvLyBXYWl0IGZvciB0aGUgdXNlciB0byBwaWNrIHRoZSBmaWxlcy4KICBjb25zdCBmaWxlcyA9IHlpZWxkIHsKICAgIHByb21pc2U6IFByb21pc2UucmFjZShbcGlja2VkUHJvbWlzZSwgY2FuY2VsUHJvbWlzZV0pLAogICAgcmVzcG9uc2U6IHsKICAgICAgYWN0aW9uOiAnc3RhcnRpbmcnLAogICAgfQogIH07CgogIGNhbmNlbC5yZW1vdmUoKTsKCiAgLy8gRGlzYWJsZSB0aGUgaW5wdXQgZWxlbWVudCBzaW5jZSBmdXJ0aGVyIHBpY2tzIGFyZSBub3QgYWxsb3dlZC4KICBpbnB1dEVsZW1lbnQuZGlzYWJsZWQgPSB0cnVlOwoKICBpZiAoIWZpbGVzKSB7CiAgICByZXR1cm4gewogICAgICByZXNwb25zZTogewogICAgICAgIGFjdGlvbjogJ2NvbXBsZXRlJywKICAgICAgfQogICAgfTsKICB9CgogIGZvciAoY29uc3QgZmlsZSBvZiBmaWxlcykgewogICAgY29uc3QgbGkgPSBkb2N1bWVudC5jcmVhdGVFbGVtZW50KCdsaScpOwogICAgbGkuYXBwZW5kKHNwYW4oZmlsZS5uYW1lLCB7Zm9udFdlaWdodDogJ2JvbGQnfSkpOwogICAgbGkuYXBwZW5kKHNwYW4oCiAgICAgICAgYCgke2ZpbGUudHlwZSB8fCAnbi9hJ30pIC0gJHtmaWxlLnNpemV9IGJ5dGVzLCBgICsKICAgICAgICBgbGFzdCBtb2RpZmllZDogJHsKICAgICAgICAgICAgZmlsZS5sYXN0TW9kaWZpZWREYXRlID8gZmlsZS5sYXN0TW9kaWZpZWREYXRlLnRvTG9jYWxlRGF0ZVN0cmluZygpIDoKICAgICAgICAgICAgICAgICAgICAgICAgICAgICAgICAgICAgJ24vYSd9IC0gYCkpOwogICAgY29uc3QgcGVyY2VudCA9IHNwYW4oJzAlIGRvbmUnKTsKICAgIGxpLmFwcGVuZENoaWxkKHBlcmNlbnQpOwoKICAgIG91dHB1dEVsZW1lbnQuYXBwZW5kQ2hpbGQobGkpOwoKICAgIGNvbnN0IGZpbGVEYXRhUHJvbWlzZSA9IG5ldyBQcm9taXNlKChyZXNvbHZlKSA9PiB7CiAgICAgIGNvbnN0IHJlYWRlciA9IG5ldyBGaWxlUmVhZGVyKCk7CiAgICAgIHJlYWRlci5vbmxvYWQgPSAoZSkgPT4gewogICAgICAgIHJlc29sdmUoZS50YXJnZXQucmVzdWx0KTsKICAgICAgfTsKICAgICAgcmVhZGVyLnJlYWRBc0FycmF5QnVmZmVyKGZpbGUpOwogICAgfSk7CiAgICAvLyBXYWl0IGZvciB0aGUgZGF0YSB0byBiZSByZWFkeS4KICAgIGxldCBmaWxlRGF0YSA9IHlpZWxkIHsKICAgICAgcHJvbWlzZTogZmlsZURhdGFQcm9taXNlLAogICAgICByZXNwb25zZTogewogICAgICAgIGFjdGlvbjogJ2NvbnRpbnVlJywKICAgICAgfQogICAgfTsKCiAgICAvLyBVc2UgYSBjaHVua2VkIHNlbmRpbmcgdG8gYXZvaWQgbWVzc2FnZSBzaXplIGxpbWl0cy4gU2VlIGIvNjIxMTU2NjAuCiAgICBsZXQgcG9zaXRpb24gPSAwOwogICAgZG8gewogICAgICBjb25zdCBsZW5ndGggPSBNYXRoLm1pbihmaWxlRGF0YS5ieXRlTGVuZ3RoIC0gcG9zaXRpb24sIE1BWF9QQVlMT0FEX1NJWkUpOwogICAgICBjb25zdCBjaHVuayA9IG5ldyBVaW50OEFycmF5KGZpbGVEYXRhLCBwb3NpdGlvbiwgbGVuZ3RoKTsKICAgICAgcG9zaXRpb24gKz0gbGVuZ3RoOwoKICAgICAgY29uc3QgYmFzZTY0ID0gYnRvYShTdHJpbmcuZnJvbUNoYXJDb2RlLmFwcGx5KG51bGwsIGNodW5rKSk7CiAgICAgIHlpZWxkIHsKICAgICAgICByZXNwb25zZTogewogICAgICAgICAgYWN0aW9uOiAnYXBwZW5kJywKICAgICAgICAgIGZpbGU6IGZpbGUubmFtZSwKICAgICAgICAgIGRhdGE6IGJhc2U2NCwKICAgICAgICB9LAogICAgICB9OwoKICAgICAgbGV0IHBlcmNlbnREb25lID0gZmlsZURhdGEuYnl0ZUxlbmd0aCA9PT0gMCA/CiAgICAgICAgICAxMDAgOgogICAgICAgICAgTWF0aC5yb3VuZCgocG9zaXRpb24gLyBmaWxlRGF0YS5ieXRlTGVuZ3RoKSAqIDEwMCk7CiAgICAgIHBlcmNlbnQudGV4dENvbnRlbnQgPSBgJHtwZXJjZW50RG9uZX0lIGRvbmVgOwoKICAgIH0gd2hpbGUgKHBvc2l0aW9uIDwgZmlsZURhdGEuYnl0ZUxlbmd0aCk7CiAgfQoKICAvLyBBbGwgZG9uZS4KICB5aWVsZCB7CiAgICByZXNwb25zZTogewogICAgICBhY3Rpb246ICdjb21wbGV0ZScsCiAgICB9CiAgfTsKfQoKc2NvcGUuZ29vZ2xlID0gc2NvcGUuZ29vZ2xlIHx8IHt9OwpzY29wZS5nb29nbGUuY29sYWIgPSBzY29wZS5nb29nbGUuY29sYWIgfHwge307CnNjb3BlLmdvb2dsZS5jb2xhYi5fZmlsZXMgPSB7CiAgX3VwbG9hZEZpbGVzLAogIF91cGxvYWRGaWxlc0NvbnRpbnVlLAp9Owp9KShzZWxmKTsK",
              "ok": true,
              "headers": [
                [
                  "content-type",
                  "application/javascript"
                ]
              ],
              "status": 200,
              "status_text": ""
            }
          },
          "base_uri": "https://localhost:8080/",
          "height": 73
        },
        "id": "HZRhNfF8QURR",
        "outputId": "41fada39-ac95-4697-a65b-1a95c55478a0"
      },
      "source": [
        "from google.colab import files  #biblioteca utilizada para carregar os dados para o google colab\n",
        "uploaded = files.upload()"
      ],
      "execution_count": 24,
      "outputs": [
        {
          "output_type": "display_data",
          "data": {
            "text/html": [
              "\n",
              "     <input type=\"file\" id=\"files-4307066d-b766-4fc2-bd71-20952ed3be6d\" name=\"files[]\" multiple disabled\n",
              "        style=\"border:none\" />\n",
              "     <output id=\"result-4307066d-b766-4fc2-bd71-20952ed3be6d\">\n",
              "      Upload widget is only available when the cell has been executed in the\n",
              "      current browser session. Please rerun this cell to enable.\n",
              "      </output>\n",
              "      <script src=\"/nbextensions/google.colab/files.js\"></script> "
            ],
            "text/plain": [
              "<IPython.core.display.HTML object>"
            ]
          },
          "metadata": {}
        },
        {
          "output_type": "stream",
          "name": "stdout",
          "text": [
            "Saving Base_Coordenadores.xlsx to Base_Coordenadores (1).xlsx\n"
          ]
        }
      ]
    },
    {
      "cell_type": "code",
      "metadata": {
        "id": "0wJmIV8eQYik"
      },
      "source": [
        "nome_do_arquivo=\"Base_Coordenadores.xlsx\""
      ],
      "execution_count": 25,
      "outputs": []
    },
    {
      "cell_type": "code",
      "metadata": {
        "colab": {
          "base_uri": "https://localhost:8080/",
          "height": 508
        },
        "id": "U3BCl1oEQgRw",
        "outputId": "43fbb65e-2f41-415b-850c-0dd1878d7d5e"
      },
      "source": [
        "df=pd.read_excel(nome_do_arquivo)\n",
        "df.head(3)"
      ],
      "execution_count": 26,
      "outputs": [
        {
          "output_type": "execute_result",
          "data": {
            "text/html": [
              "<div>\n",
              "<style scoped>\n",
              "    .dataframe tbody tr th:only-of-type {\n",
              "        vertical-align: middle;\n",
              "    }\n",
              "\n",
              "    .dataframe tbody tr th {\n",
              "        vertical-align: top;\n",
              "    }\n",
              "\n",
              "    .dataframe thead th {\n",
              "        text-align: right;\n",
              "    }\n",
              "</style>\n",
              "<table border=\"1\" class=\"dataframe\">\n",
              "  <thead>\n",
              "    <tr style=\"text-align: right;\">\n",
              "      <th></th>\n",
              "      <th>codEstab</th>\n",
              "      <th>DescEstab</th>\n",
              "      <th>Centro SAP</th>\n",
              "      <th>Desc. Centro SAP</th>\n",
              "      <th>Matricula</th>\n",
              "      <th>Txt_subárea_HR</th>\n",
              "      <th>Denom_un_org</th>\n",
              "      <th>Denom_grp_empreg</th>\n",
              "      <th>Denom_subgrp_emprg</th>\n",
              "      <th>Texto_sexo</th>\n",
              "      <th>Datadenascimento</th>\n",
              "      <th>Hrs_mês</th>\n",
              "      <th>Data de Admissão</th>\n",
              "      <th>Status do Colaborador</th>\n",
              "      <th>DescrCargo</th>\n",
              "      <th>DescEstabelecimento  Regional</th>\n",
              "      <th>CodEmpresa</th>\n",
              "      <th>DescEmpresa</th>\n",
              "      <th>DescMarca</th>\n",
              "      <th>Centro de Custo Descrição</th>\n",
              "      <th>Pessoa com Deficiência?</th>\n",
              "      <th>Status Afastado</th>\n",
              "      <th>CodAfastamento</th>\n",
              "      <th>Motivos</th>\n",
              "      <th>Valdesde</th>\n",
              "      <th>Valaté</th>\n",
              "      <th>Idade</th>\n",
              "      <th>Range Idade</th>\n",
              "      <th>TCasa</th>\n",
              "      <th>Range TCasa</th>\n",
              "      <th>CodSindicato</th>\n",
              "      <th>Sindicato</th>\n",
              "      <th>Chave</th>\n",
              "      <th>Mês</th>\n",
              "      <th>Cidade</th>\n",
              "      <th>Mesref</th>\n",
              "      <th>Instrução</th>\n",
              "      <th>Est EMS</th>\n",
              "      <th>Etnia</th>\n",
              "      <th>Carga Horária</th>\n",
              "      <th>Estado Civil</th>\n",
              "      <th>Entidade</th>\n",
              "      <th>Posição_Success</th>\n",
              "      <th>FTE</th>\n",
              "      <th>Headcount Orçamento</th>\n",
              "      <th>Bairro</th>\n",
              "      <th>UF</th>\n",
              "      <th>CULTURA</th>\n",
              "      <th>DESEMPENHO_TOTAL</th>\n",
              "      <th>EQUIPE</th>\n",
              "      <th>SALÁRIO</th>\n",
              "      <th>POSICIONAMENTO SALARIAL</th>\n",
              "      <th>FAIXA_SAL</th>\n",
              "      <th>NINE_BOX1</th>\n",
              "      <th>NINE_BOX</th>\n",
              "      <th>GPTW_2020</th>\n",
              "      <th>GPTW_2021</th>\n",
              "      <th>TURNOVER</th>\n",
              "      <th>TURNOVER_P</th>\n",
              "      <th>CANAIS_CONDUTA</th>\n",
              "      <th>DATA_MOV</th>\n",
              "      <th>Motivo</th>\n",
              "      <th>MERITOCRACIA</th>\n",
              "      <th>Tcadeira</th>\n",
              "      <th>Tcadeira_anos</th>\n",
              "      <th>Tcargo</th>\n",
              "      <th>NPS</th>\n",
              "      <th>RECEITA_MIL</th>\n",
              "      <th>CLUSTER</th>\n",
              "      <th>META_ORC</th>\n",
              "    </tr>\n",
              "  </thead>\n",
              "  <tbody>\n",
              "    <tr>\n",
              "      <th>0</th>\n",
              "      <td>650361</td>\n",
              "      <td>Angélica II</td>\n",
              "      <td>D121</td>\n",
              "      <td>LV-ANGÉLICA II</td>\n",
              "      <td>1</td>\n",
              "      <td>Angélica II</td>\n",
              "      <td>Atendimento Unidades SP 3</td>\n",
              "      <td>Coordenação</td>\n",
              "      <td>Coordenador</td>\n",
              "      <td>feminino</td>\n",
              "      <td>1992-02-27</td>\n",
              "      <td>220</td>\n",
              "      <td>2014-09-01</td>\n",
              "      <td>Ativo</td>\n",
              "      <td>Coordenador Unidade II</td>\n",
              "      <td>São Paulo</td>\n",
              "      <td>1000</td>\n",
              "      <td>DASA</td>\n",
              "      <td>LAVOISIER</td>\n",
              "      <td>Administração</td>\n",
              "      <td>Não</td>\n",
              "      <td>Ativo</td>\n",
              "      <td>NaN</td>\n",
              "      <td>NaN</td>\n",
              "      <td>NaN</td>\n",
              "      <td>NaN</td>\n",
              "      <td>28</td>\n",
              "      <td>De 26 a 30</td>\n",
              "      <td>75.43</td>\n",
              "      <td>Mais que 5 anos e menos que 10 anos</td>\n",
              "      <td>SINDSP01</td>\n",
              "      <td>SINSAUDESP</td>\n",
              "      <td>50003472</td>\n",
              "      <td>2020-12-01</td>\n",
              "      <td>São Paulo</td>\n",
              "      <td>202012</td>\n",
              "      <td>Ensino Superior</td>\n",
              "      <td>D121</td>\n",
              "      <td>Branca</td>\n",
              "      <td>07-17 2a6 07-11 S 2h (F220164A)</td>\n",
              "      <td>Casado(a)</td>\n",
              "      <td>01. Reg. SP</td>\n",
              "      <td>60021385</td>\n",
              "      <td>1.22</td>\n",
              "      <td>1</td>\n",
              "      <td>Santa Cecília</td>\n",
              "      <td>SP</td>\n",
              "      <td>100.0</td>\n",
              "      <td>102.266039</td>\n",
              "      <td>0</td>\n",
              "      <td>5691.35</td>\n",
              "      <td>-0.242497</td>\n",
              "      <td>baixa</td>\n",
              "      <td>1 AVALIAR</td>\n",
              "      <td>1.0</td>\n",
              "      <td>81</td>\n",
              "      <td>68</td>\n",
              "      <td>0</td>\n",
              "      <td>0.000000</td>\n",
              "      <td>0.5</td>\n",
              "      <td>2018-09-01</td>\n",
              "      <td>Programa Crescer</td>\n",
              "      <td>NÃO</td>\n",
              "      <td>2018-09-01</td>\n",
              "      <td>2.366667</td>\n",
              "      <td>3 - de 2 a 4 anos</td>\n",
              "      <td>52.900000</td>\n",
              "      <td>8580.43576</td>\n",
              "      <td>GRANDE</td>\n",
              "      <td>0.300000</td>\n",
              "    </tr>\n",
              "    <tr>\n",
              "      <th>1</th>\n",
              "      <td>650361</td>\n",
              "      <td>Angélica II</td>\n",
              "      <td>D121</td>\n",
              "      <td>LV-ANGÉLICA II</td>\n",
              "      <td>2</td>\n",
              "      <td>Angélica II</td>\n",
              "      <td>Atendimento Unidades SP 2</td>\n",
              "      <td>Coordenação</td>\n",
              "      <td>Coordenador</td>\n",
              "      <td>masculino</td>\n",
              "      <td>1993-03-03</td>\n",
              "      <td>220</td>\n",
              "      <td>2015-04-23</td>\n",
              "      <td>Ativo</td>\n",
              "      <td>Coordenador Unidade II</td>\n",
              "      <td>São Paulo</td>\n",
              "      <td>1000</td>\n",
              "      <td>DASA</td>\n",
              "      <td>LAVOISIER</td>\n",
              "      <td>Administração</td>\n",
              "      <td>Não</td>\n",
              "      <td>Ativo</td>\n",
              "      <td>NaN</td>\n",
              "      <td>NaN</td>\n",
              "      <td>NaN</td>\n",
              "      <td>NaN</td>\n",
              "      <td>27</td>\n",
              "      <td>De 26 a 30</td>\n",
              "      <td>67.75</td>\n",
              "      <td>Mais que 5 anos e menos que 10 anos</td>\n",
              "      <td>SINDSP09</td>\n",
              "      <td>SIND BIOMEDICOS DE SP</td>\n",
              "      <td>50002746</td>\n",
              "      <td>2020-12-01</td>\n",
              "      <td>São Paulo</td>\n",
              "      <td>202012</td>\n",
              "      <td>Ensino Superior</td>\n",
              "      <td>D121</td>\n",
              "      <td>Branca</td>\n",
              "      <td>07-17 2a6 07-11 S 2h (F220164A)</td>\n",
              "      <td>Solteiro(a)</td>\n",
              "      <td>01. Reg. SP</td>\n",
              "      <td>60000578</td>\n",
              "      <td>1.22</td>\n",
              "      <td>1</td>\n",
              "      <td>Santa Cecília</td>\n",
              "      <td>SP</td>\n",
              "      <td>104.0</td>\n",
              "      <td>102.266039</td>\n",
              "      <td>0</td>\n",
              "      <td>6262.01</td>\n",
              "      <td>-0.211019</td>\n",
              "      <td>baixa</td>\n",
              "      <td>5 EVOLUIR</td>\n",
              "      <td>5.0</td>\n",
              "      <td>79</td>\n",
              "      <td>68</td>\n",
              "      <td>0</td>\n",
              "      <td>0.000000</td>\n",
              "      <td>0.5</td>\n",
              "      <td>2020-08-01</td>\n",
              "      <td>Mérito</td>\n",
              "      <td>SIM</td>\n",
              "      <td>2020-02-01</td>\n",
              "      <td>0.927778</td>\n",
              "      <td>1 - menos de 1 ano</td>\n",
              "      <td>52.900000</td>\n",
              "      <td>8580.43576</td>\n",
              "      <td>GRANDE</td>\n",
              "      <td>0.300000</td>\n",
              "    </tr>\n",
              "    <tr>\n",
              "      <th>2</th>\n",
              "      <td>650361</td>\n",
              "      <td>Angélica II</td>\n",
              "      <td>D121</td>\n",
              "      <td>LV-ANGÉLICA II</td>\n",
              "      <td>3</td>\n",
              "      <td>Angélica II</td>\n",
              "      <td>Unidade Angélica II</td>\n",
              "      <td>Coordenação</td>\n",
              "      <td>Coordenador</td>\n",
              "      <td>feminino</td>\n",
              "      <td>1982-02-27</td>\n",
              "      <td>220</td>\n",
              "      <td>2016-02-01</td>\n",
              "      <td>Ativo</td>\n",
              "      <td>Coordenador Unidade III</td>\n",
              "      <td>São Paulo</td>\n",
              "      <td>1000</td>\n",
              "      <td>DASA</td>\n",
              "      <td>LAVOISIER</td>\n",
              "      <td>Administração</td>\n",
              "      <td>Não</td>\n",
              "      <td>Ativo</td>\n",
              "      <td>NaN</td>\n",
              "      <td>NaN</td>\n",
              "      <td>NaN</td>\n",
              "      <td>NaN</td>\n",
              "      <td>38</td>\n",
              "      <td>De 36 a 45</td>\n",
              "      <td>58.41</td>\n",
              "      <td>Mais que 2 anos e e menos que 5 anos</td>\n",
              "      <td>SINDSP01</td>\n",
              "      <td>SINSAUDESP</td>\n",
              "      <td>50003214</td>\n",
              "      <td>2020-12-01</td>\n",
              "      <td>São Paulo</td>\n",
              "      <td>202012</td>\n",
              "      <td>Pos Graduação / MBA / Mestrado</td>\n",
              "      <td>D121</td>\n",
              "      <td>Branca</td>\n",
              "      <td>07-17 2a6 07-11 (F220026A)</td>\n",
              "      <td>Casado(a)</td>\n",
              "      <td>01. Reg. SP</td>\n",
              "      <td>60062712</td>\n",
              "      <td>1.22</td>\n",
              "      <td>1</td>\n",
              "      <td>Santa Cecília</td>\n",
              "      <td>SP</td>\n",
              "      <td>100.0</td>\n",
              "      <td>102.266039</td>\n",
              "      <td>85</td>\n",
              "      <td>7025.44</td>\n",
              "      <td>-0.0649329</td>\n",
              "      <td>média</td>\n",
              "      <td>8 EXPANDIR</td>\n",
              "      <td>8.0</td>\n",
              "      <td>58</td>\n",
              "      <td>68</td>\n",
              "      <td>4</td>\n",
              "      <td>0.047059</td>\n",
              "      <td>0.5</td>\n",
              "      <td>2018-07-01</td>\n",
              "      <td>Programa Crescer</td>\n",
              "      <td>SIM</td>\n",
              "      <td>2020-11-01</td>\n",
              "      <td>0.166667</td>\n",
              "      <td>1 - menos de 1 ano</td>\n",
              "      <td>58.816667</td>\n",
              "      <td>8580.43576</td>\n",
              "      <td>GRANDE</td>\n",
              "      <td>0.133333</td>\n",
              "    </tr>\n",
              "  </tbody>\n",
              "</table>\n",
              "</div>"
            ],
            "text/plain": [
              "   codEstab    DescEstab Centro SAP  ... RECEITA_MIL  CLUSTER  META_ORC\n",
              "0    650361  Angélica II       D121  ...  8580.43576   GRANDE  0.300000\n",
              "1    650361  Angélica II       D121  ...  8580.43576   GRANDE  0.300000\n",
              "2    650361  Angélica II       D121  ...  8580.43576   GRANDE  0.133333\n",
              "\n",
              "[3 rows x 70 columns]"
            ]
          },
          "metadata": {},
          "execution_count": 26
        }
      ]
    },
    {
      "cell_type": "code",
      "metadata": {
        "colab": {
          "base_uri": "https://localhost:8080/",
          "height": 336
        },
        "id": "cT5aROcpXBa4",
        "outputId": "3b1122f0-ccca-46a6-fbf8-4c4f1a367dc1"
      },
      "source": [
        "df.describe()"
      ],
      "execution_count": 27,
      "outputs": [
        {
          "output_type": "execute_result",
          "data": {
            "text/html": [
              "<div>\n",
              "<style scoped>\n",
              "    .dataframe tbody tr th:only-of-type {\n",
              "        vertical-align: middle;\n",
              "    }\n",
              "\n",
              "    .dataframe tbody tr th {\n",
              "        vertical-align: top;\n",
              "    }\n",
              "\n",
              "    .dataframe thead th {\n",
              "        text-align: right;\n",
              "    }\n",
              "</style>\n",
              "<table border=\"1\" class=\"dataframe\">\n",
              "  <thead>\n",
              "    <tr style=\"text-align: right;\">\n",
              "      <th></th>\n",
              "      <th>codEstab</th>\n",
              "      <th>Matricula</th>\n",
              "      <th>Hrs_mês</th>\n",
              "      <th>CodEmpresa</th>\n",
              "      <th>CodAfastamento</th>\n",
              "      <th>Motivos</th>\n",
              "      <th>Valdesde</th>\n",
              "      <th>Valaté</th>\n",
              "      <th>Idade</th>\n",
              "      <th>TCasa</th>\n",
              "      <th>Chave</th>\n",
              "      <th>Mesref</th>\n",
              "      <th>Posição_Success</th>\n",
              "      <th>FTE</th>\n",
              "      <th>Headcount Orçamento</th>\n",
              "      <th>CULTURA</th>\n",
              "      <th>DESEMPENHO_TOTAL</th>\n",
              "      <th>EQUIPE</th>\n",
              "      <th>SALÁRIO</th>\n",
              "      <th>NINE_BOX</th>\n",
              "      <th>GPTW_2020</th>\n",
              "      <th>GPTW_2021</th>\n",
              "      <th>TURNOVER</th>\n",
              "      <th>TURNOVER_P</th>\n",
              "      <th>CANAIS_CONDUTA</th>\n",
              "      <th>Tcadeira_anos</th>\n",
              "      <th>NPS</th>\n",
              "      <th>RECEITA_MIL</th>\n",
              "      <th>META_ORC</th>\n",
              "    </tr>\n",
              "  </thead>\n",
              "  <tbody>\n",
              "    <tr>\n",
              "      <th>count</th>\n",
              "      <td>44.000000</td>\n",
              "      <td>44.000000</td>\n",
              "      <td>44.000000</td>\n",
              "      <td>44.0</td>\n",
              "      <td>0.0</td>\n",
              "      <td>0.0</td>\n",
              "      <td>0.0</td>\n",
              "      <td>0.0</td>\n",
              "      <td>44.000000</td>\n",
              "      <td>44.000000</td>\n",
              "      <td>4.400000e+01</td>\n",
              "      <td>44.0</td>\n",
              "      <td>4.400000e+01</td>\n",
              "      <td>44.000000</td>\n",
              "      <td>44.0</td>\n",
              "      <td>44.000000</td>\n",
              "      <td>44.000000</td>\n",
              "      <td>44.000000</td>\n",
              "      <td>44.000000</td>\n",
              "      <td>44.000000</td>\n",
              "      <td>44.000000</td>\n",
              "      <td>44.000000</td>\n",
              "      <td>44.000000</td>\n",
              "      <td>44.000000</td>\n",
              "      <td>44.000000</td>\n",
              "      <td>44.000000</td>\n",
              "      <td>44.000000</td>\n",
              "      <td>44.000000</td>\n",
              "      <td>44.000000</td>\n",
              "    </tr>\n",
              "    <tr>\n",
              "      <th>mean</th>\n",
              "      <td>606352.795455</td>\n",
              "      <td>22.500000</td>\n",
              "      <td>215.000000</td>\n",
              "      <td>1000.0</td>\n",
              "      <td>NaN</td>\n",
              "      <td>NaN</td>\n",
              "      <td>NaN</td>\n",
              "      <td>NaN</td>\n",
              "      <td>38.500000</td>\n",
              "      <td>104.654773</td>\n",
              "      <td>5.000450e+07</td>\n",
              "      <td>202012.0</td>\n",
              "      <td>6.001756e+07</td>\n",
              "      <td>1.192727</td>\n",
              "      <td>1.0</td>\n",
              "      <td>98.245455</td>\n",
              "      <td>102.271267</td>\n",
              "      <td>37.636364</td>\n",
              "      <td>6072.256364</td>\n",
              "      <td>3.318182</td>\n",
              "      <td>60.568182</td>\n",
              "      <td>64.181818</td>\n",
              "      <td>1.522727</td>\n",
              "      <td>0.045862</td>\n",
              "      <td>1.977273</td>\n",
              "      <td>4.091667</td>\n",
              "      <td>63.676097</td>\n",
              "      <td>4591.055472</td>\n",
              "      <td>0.372727</td>\n",
              "    </tr>\n",
              "    <tr>\n",
              "      <th>std</th>\n",
              "      <td>123819.717652</td>\n",
              "      <td>12.845233</td>\n",
              "      <td>15.994185</td>\n",
              "      <td>0.0</td>\n",
              "      <td>NaN</td>\n",
              "      <td>NaN</td>\n",
              "      <td>NaN</td>\n",
              "      <td>NaN</td>\n",
              "      <td>8.563036</td>\n",
              "      <td>71.242116</td>\n",
              "      <td>4.560879e+03</td>\n",
              "      <td>0.0</td>\n",
              "      <td>1.653731e+04</td>\n",
              "      <td>0.087241</td>\n",
              "      <td>0.0</td>\n",
              "      <td>23.193077</td>\n",
              "      <td>0.667916</td>\n",
              "      <td>43.571962</td>\n",
              "      <td>1336.863582</td>\n",
              "      <td>1.877315</td>\n",
              "      <td>24.399197</td>\n",
              "      <td>27.411823</td>\n",
              "      <td>2.129403</td>\n",
              "      <td>0.068082</td>\n",
              "      <td>5.377553</td>\n",
              "      <td>6.164853</td>\n",
              "      <td>15.179421</td>\n",
              "      <td>2986.984075</td>\n",
              "      <td>0.335566</td>\n",
              "    </tr>\n",
              "    <tr>\n",
              "      <th>min</th>\n",
              "      <td>50013.000000</td>\n",
              "      <td>1.000000</td>\n",
              "      <td>165.000000</td>\n",
              "      <td>1000.0</td>\n",
              "      <td>NaN</td>\n",
              "      <td>NaN</td>\n",
              "      <td>NaN</td>\n",
              "      <td>NaN</td>\n",
              "      <td>27.000000</td>\n",
              "      <td>21.320000</td>\n",
              "      <td>5.000262e+07</td>\n",
              "      <td>202012.0</td>\n",
              "      <td>6.000044e+07</td>\n",
              "      <td>0.920000</td>\n",
              "      <td>1.0</td>\n",
              "      <td>0.000000</td>\n",
              "      <td>98.768139</td>\n",
              "      <td>0.000000</td>\n",
              "      <td>3929.090000</td>\n",
              "      <td>0.000000</td>\n",
              "      <td>0.000000</td>\n",
              "      <td>0.000000</td>\n",
              "      <td>0.000000</td>\n",
              "      <td>0.000000</td>\n",
              "      <td>0.000000</td>\n",
              "      <td>0.000000</td>\n",
              "      <td>4.408333</td>\n",
              "      <td>529.278010</td>\n",
              "      <td>0.000000</td>\n",
              "    </tr>\n",
              "    <tr>\n",
              "      <th>25%</th>\n",
              "      <td>650354.000000</td>\n",
              "      <td>11.750000</td>\n",
              "      <td>220.000000</td>\n",
              "      <td>1000.0</td>\n",
              "      <td>NaN</td>\n",
              "      <td>NaN</td>\n",
              "      <td>NaN</td>\n",
              "      <td>NaN</td>\n",
              "      <td>32.000000</td>\n",
              "      <td>54.732500</td>\n",
              "      <td>5.000323e+07</td>\n",
              "      <td>202012.0</td>\n",
              "      <td>6.000336e+07</td>\n",
              "      <td>1.220000</td>\n",
              "      <td>1.0</td>\n",
              "      <td>100.000000</td>\n",
              "      <td>102.266039</td>\n",
              "      <td>11.500000</td>\n",
              "      <td>5267.790000</td>\n",
              "      <td>2.000000</td>\n",
              "      <td>57.000000</td>\n",
              "      <td>64.750000</td>\n",
              "      <td>0.000000</td>\n",
              "      <td>0.000000</td>\n",
              "      <td>0.000000</td>\n",
              "      <td>0.825694</td>\n",
              "      <td>61.625000</td>\n",
              "      <td>2113.032431</td>\n",
              "      <td>0.070833</td>\n",
              "    </tr>\n",
              "    <tr>\n",
              "      <th>50%</th>\n",
              "      <td>650377.000000</td>\n",
              "      <td>22.500000</td>\n",
              "      <td>220.000000</td>\n",
              "      <td>1000.0</td>\n",
              "      <td>NaN</td>\n",
              "      <td>NaN</td>\n",
              "      <td>NaN</td>\n",
              "      <td>NaN</td>\n",
              "      <td>38.000000</td>\n",
              "      <td>84.285000</td>\n",
              "      <td>5.000348e+07</td>\n",
              "      <td>202012.0</td>\n",
              "      <td>6.001112e+07</td>\n",
              "      <td>1.220000</td>\n",
              "      <td>1.0</td>\n",
              "      <td>103.600000</td>\n",
              "      <td>102.266039</td>\n",
              "      <td>22.500000</td>\n",
              "      <td>5788.820000</td>\n",
              "      <td>4.000000</td>\n",
              "      <td>68.000000</td>\n",
              "      <td>72.000000</td>\n",
              "      <td>1.000000</td>\n",
              "      <td>0.026149</td>\n",
              "      <td>0.000000</td>\n",
              "      <td>1.608333</td>\n",
              "      <td>68.000000</td>\n",
              "      <td>3704.181821</td>\n",
              "      <td>0.300000</td>\n",
              "    </tr>\n",
              "    <tr>\n",
              "      <th>75%</th>\n",
              "      <td>650398.250000</td>\n",
              "      <td>33.250000</td>\n",
              "      <td>220.000000</td>\n",
              "      <td>1000.0</td>\n",
              "      <td>NaN</td>\n",
              "      <td>NaN</td>\n",
              "      <td>NaN</td>\n",
              "      <td>NaN</td>\n",
              "      <td>43.000000</td>\n",
              "      <td>129.292500</td>\n",
              "      <td>5.000348e+07</td>\n",
              "      <td>202012.0</td>\n",
              "      <td>6.003029e+07</td>\n",
              "      <td>1.220000</td>\n",
              "      <td>1.0</td>\n",
              "      <td>106.900000</td>\n",
              "      <td>102.266039</td>\n",
              "      <td>45.750000</td>\n",
              "      <td>7048.627500</td>\n",
              "      <td>5.000000</td>\n",
              "      <td>75.500000</td>\n",
              "      <td>81.000000</td>\n",
              "      <td>2.000000</td>\n",
              "      <td>0.062784</td>\n",
              "      <td>1.000000</td>\n",
              "      <td>2.693056</td>\n",
              "      <td>72.033333</td>\n",
              "      <td>7341.623946</td>\n",
              "      <td>0.400000</td>\n",
              "    </tr>\n",
              "    <tr>\n",
              "      <th>max</th>\n",
              "      <td>680411.000000</td>\n",
              "      <td>44.000000</td>\n",
              "      <td>220.000000</td>\n",
              "      <td>1000.0</td>\n",
              "      <td>NaN</td>\n",
              "      <td>NaN</td>\n",
              "      <td>NaN</td>\n",
              "      <td>NaN</td>\n",
              "      <td>61.000000</td>\n",
              "      <td>292.300000</td>\n",
              "      <td>5.002491e+07</td>\n",
              "      <td>202012.0</td>\n",
              "      <td>6.006271e+07</td>\n",
              "      <td>1.220000</td>\n",
              "      <td>1.0</td>\n",
              "      <td>115.000000</td>\n",
              "      <td>104.130000</td>\n",
              "      <td>208.000000</td>\n",
              "      <td>9256.670000</td>\n",
              "      <td>8.000000</td>\n",
              "      <td>94.000000</td>\n",
              "      <td>96.000000</td>\n",
              "      <td>10.000000</td>\n",
              "      <td>0.375000</td>\n",
              "      <td>33.000000</td>\n",
              "      <td>24.761111</td>\n",
              "      <td>81.400000</td>\n",
              "      <td>10244.110720</td>\n",
              "      <td>1.000000</td>\n",
              "    </tr>\n",
              "  </tbody>\n",
              "</table>\n",
              "</div>"
            ],
            "text/plain": [
              "            codEstab  Matricula     Hrs_mês  ...        NPS   RECEITA_MIL   META_ORC\n",
              "count      44.000000  44.000000   44.000000  ...  44.000000     44.000000  44.000000\n",
              "mean   606352.795455  22.500000  215.000000  ...  63.676097   4591.055472   0.372727\n",
              "std    123819.717652  12.845233   15.994185  ...  15.179421   2986.984075   0.335566\n",
              "min     50013.000000   1.000000  165.000000  ...   4.408333    529.278010   0.000000\n",
              "25%    650354.000000  11.750000  220.000000  ...  61.625000   2113.032431   0.070833\n",
              "50%    650377.000000  22.500000  220.000000  ...  68.000000   3704.181821   0.300000\n",
              "75%    650398.250000  33.250000  220.000000  ...  72.033333   7341.623946   0.400000\n",
              "max    680411.000000  44.000000  220.000000  ...  81.400000  10244.110720   1.000000\n",
              "\n",
              "[8 rows x 29 columns]"
            ]
          },
          "metadata": {},
          "execution_count": 27
        }
      ]
    },
    {
      "cell_type": "code",
      "metadata": {
        "id": "grV3GyM2VaKJ"
      },
      "source": [
        "df['GR_GPTW'] = np.where(df['GPTW_2021'] >= 81, 3, np.where(\n",
        "    df['GPTW_2021'] < 64.75, 0.75, 1.5))\n",
        "\n",
        "df['GR_CULTURA'] = np.where(df['CULTURA'] >= 106.9, 2, np.where(\n",
        "    df['CULTURA'] < 100, 0, 1.0))\n",
        "\n",
        "df['GR_TURNOVER'] = np.where(df['TURNOVER_P'] >= 20, 0, np.where(\n",
        "    df['TURNOVER_P'] < 6, 2, 1))\n",
        "\n",
        "df['GR_EQUIPE'] = np.where(df['EQUIPE'] >= 45, 1, np.where(\n",
        "    df['EQUIPE'] < 11, 0, 0.5))"
      ],
      "execution_count": 28,
      "outputs": []
    },
    {
      "cell_type": "code",
      "metadata": {
        "id": "UKodZaRblEiI"
      },
      "source": [
        "df['GR_9BOX'] = np.where(df['NINE_BOX'] == 9, 3, np.where(\n",
        "    df['NINE_BOX'] == 8, 2.75, np.where(df['NINE_BOX'] == 7, 2.5, np.where(df['NINE_BOX'] == 6, 2.25,np.where(\n",
        "        df['NINE_BOX'] == 5, 2, np.where(df['NINE_BOX'] == 4, 1.75, np.where(df['NINE_BOX'] == 3, 1.5, np.where(\n",
        "            df['NINE_BOX'] == 2, 1.25, np.where(df['NINE_BOX'] == 1, 1, 0)))))))))"
      ],
      "execution_count": 29,
      "outputs": []
    },
    {
      "cell_type": "code",
      "metadata": {
        "id": "7JqhZ181mQgJ"
      },
      "source": [
        "df['NF_PESSOAS']= df['GR_GPTW']+df['GR_TURNOVER']+df['GR_9BOX']"
      ],
      "execution_count": 30,
      "outputs": []
    },
    {
      "cell_type": "code",
      "metadata": {
        "colab": {
          "base_uri": "https://localhost:8080/",
          "height": 280
        },
        "id": "DF5wbB24g038",
        "outputId": "f711f3ce-46ca-4a5e-fcec-8a625904fc71"
      },
      "source": [
        "import seaborn as sns\n",
        "sns.countplot(x='NF_PESSOAS', palette=\"Blues\", data=df);"
      ],
      "execution_count": 31,
      "outputs": [
        {
          "output_type": "display_data",
          "data": {
            "image/png": "[encoded data removed]",
            "text/plain": [
              "<Figure size 432x288 with 1 Axes>"
            ]
          },
          "metadata": {
            "needs_background": "light"
          }
        }
      ]
    },
    {
      "cell_type": "code",
      "metadata": {
        "id": "lepEJNuLuien"
      },
      "source": [
        "df['GR_NPS'] = np.where(df['NPS'] >= 72.0, 4, np.where(\n",
        "    df['NPS'] < 61.8, 0, 2))"
      ],
      "execution_count": 32,
      "outputs": []
    },
    {
      "cell_type": "code",
      "metadata": {
        "id": "0cIrkFR-pnWz"
      },
      "source": [
        "df['GR_ORCAMENTO'] = np.where(df['META_ORC']  > 0.80, 6, np.where((df['META_ORC'] > 0.70) & (df['META_ORC'] < 0.80), 5, np.where(\n",
        "    (df['META_ORC']> 0.60) & (df['META_ORC'] < 0.70), 4, np.where((df['META_ORC']> 0.40) & (df['META_ORC'] < 0.60), 3, np.where(\n",
        "        (df['META_ORC']> 0.20) & (df['META_ORC'] < 0.40), 2, np.where((df['META_ORC']> 0.01) & (df['META_ORC'] < 0.20), 1, 0))))))"
      ],
      "execution_count": 33,
      "outputs": []
    },
    {
      "cell_type": "code",
      "metadata": {
        "id": "MAXG-OAAucUp"
      },
      "source": [
        "df['NF_NEGOCIOS']= df['GR_NPS']+df['GR_ORCAMENTO']"
      ],
      "execution_count": 34,
      "outputs": []
    },
    {
      "cell_type": "code",
      "metadata": {
        "colab": {
          "base_uri": "https://localhost:8080/",
          "height": 280
        },
        "id": "xuGCfDW2u_hU",
        "outputId": "d75f10b5-da9c-45d8-c212-d698dd18e3c8"
      },
      "source": [
        "sns.countplot(x='NF_NEGOCIOS', palette=\"Blues\", data=df);"
      ],
      "execution_count": 35,
      "outputs": [
        {
          "output_type": "display_data",
          "data": {
            "image/png": "[encoded data removed]",
            "text/plain": [
              "<Figure size 432x288 with 1 Axes>"
            ]
          },
          "metadata": {
            "needs_background": "light"
          }
        }
      ]
    },
    {
      "cell_type": "code",
      "metadata": {
        "id": "Tgw_1bmNvJ7D"
      },
      "source": [
        "df['NF_GERAL']= df['NF_PESSOAS']+df['NF_NEGOCIOS']"
      ],
      "execution_count": 36,
      "outputs": []
    },
    {
      "cell_type": "code",
      "metadata": {
        "colab": {
          "base_uri": "https://localhost:8080/",
          "height": 353
        },
        "id": "1KG1Xrrhw_ks",
        "outputId": "50fef6a8-fa6f-4aff-eaf8-98f6817c2b2d"
      },
      "source": [
        "df.plot.scatter('NF_PESSOAS', 'NF_NEGOCIOS', figsize=(5,5))"
      ],
      "execution_count": 37,
      "outputs": [
        {
          "output_type": "execute_result",
          "data": {
            "text/plain": [
              "<matplotlib.axes._subplots.AxesSubplot at 0x7fa6aacb21d0>"
            ]
          },
          "metadata": {},
          "execution_count": 37
        },
        {
          "output_type": "display_data",
          "data": {
            "image/png": "[encoded data removed]",
            "text/plain": [
              "<Figure size 360x360 with 1 Axes>"
            ]
          },
          "metadata": {
            "needs_background": "light"
          }
        }
      ]
    },
    {
      "cell_type": "code",
      "metadata": {
        "id": "alR3BY80xfUd"
      },
      "source": [
        "md_pessoas = df.NF_PESSOAS.mean()\n",
        "md_negocios = df.NF_NEGOCIOS.mean()"
      ],
      "execution_count": 38,
      "outputs": []
    },
    {
      "cell_type": "code",
      "metadata": {
        "id": "WBi7s4lDy7J5"
      },
      "source": [
        "pessoas = df.NF_PESSOAS\n",
        "negocios = df.NF_NEGOCIOS\n",
        "\n",
        "quadrante1 = (pessoas <= md_pessoas) & (negocios <= md_negocios)\n",
        "quadrante2 = (pessoas > md_pessoas) & (negocios <= md_negocios)\n",
        "quadrante3 = (pessoas > md_pessoas) & (negocios > md_negocios)\n",
        "quadrante4 = (pessoas <= md_pessoas) & (negocios > md_negocios)"
      ],
      "execution_count": 39,
      "outputs": []
    },
    {
      "cell_type": "code",
      "metadata": {
        "id": "qB-3DEWMC_ny",
        "colab": {
          "base_uri": "https://localhost:8080/",
          "height": 353
        },
        "outputId": "6b28a252-6eb0-4550-c192-75269ffb9b2e"
      },
      "source": [
        "\n",
        "fig, ax = plt.subplots(2,2, figsize=(10,5), sharex='col', sharey='row')\n",
        "plt.subplots_adjust(wspace=0, hspace=0)\n",
        "\n",
        "df1 = df[quadrante1]\n",
        "df1.plot.scatter('NF_PESSOAS', 'NF_NEGOCIOS', ax = ax[1,0], color='purple')\n",
        "\n",
        "df2 = df[quadrante2]\n",
        "df2.plot.scatter('NF_PESSOAS', 'NF_NEGOCIOS', ax = ax[0,0])\n",
        "\n",
        "df3 = df[quadrante3]\n",
        "df3.plot.scatter('NF_PESSOAS', 'NF_NEGOCIOS', ax = ax[0,1], color='green')\n",
        "\n",
        "df4 = df[quadrante4]\n",
        "df4.plot.scatter('NF_PESSOAS', 'NF_NEGOCIOS', ax = ax[1,1], color='orange')"
      ],
      "execution_count": 40,
      "outputs": [
        {
          "output_type": "execute_result",
          "data": {
            "text/plain": [
              "<matplotlib.axes._subplots.AxesSubplot at 0x7fa6aab18390>"
            ]
          },
          "metadata": {},
          "execution_count": 40
        },
        {
          "output_type": "display_data",
          "data": {
            "image/png": "[encoded data removed]",
            "text/plain": [
              "<Figure size 720x360 with 4 Axes>"
            ]
          },
          "metadata": {
            "needs_background": "light"
          }
        }
      ]
    }
  ]
}